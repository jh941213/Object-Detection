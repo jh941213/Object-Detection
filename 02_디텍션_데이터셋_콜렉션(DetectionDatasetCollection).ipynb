{
  "nbformat": 4,
  "nbformat_minor": 0,
  "metadata": {
    "colab": {
      "provenance": [],
      "include_colab_link": true
    },
    "kernelspec": {
      "name": "python3",
      "display_name": "Python 3"
    },
    "language_info": {
      "name": "python"
    }
  },
  "cells": [
    {
      "cell_type": "markdown",
      "metadata": {
        "id": "view-in-github",
        "colab_type": "text"
      },
      "source": [
        "<a href=\"https://colab.research.google.com/github/jh941213/Object-Detection/blob/main/02_%EB%94%94%ED%85%8D%EC%85%98_%EB%8D%B0%EC%9D%B4%ED%84%B0%EC%85%8B_%EC%BD%9C%EB%A0%89%EC%85%98(DetectionDatasetCollection).ipynb\" target=\"_parent\"><img src=\"https://colab.research.google.com/assets/colab-badge.svg\" alt=\"Open In Colab\"/></a>"
      ]
    },
    {
      "cell_type": "markdown",
      "source": [
        "# 오브젝트 디텍션용 데이터셋 수집"
      ],
      "metadata": {
        "id": "UxSNmhJyIpgE"
      }
    },
    {
      "cell_type": "markdown",
      "source": [
        "## 데이터셋 생성\n",
        "https://github.com/heartexlabs/labelImg/releases\n"
      ],
      "metadata": {
        "id": "PoORtupKIpPN"
      }
    },
    {
      "cell_type": "markdown",
      "source": [
        "## 데이터셋 타겟 데이터 생성"
      ],
      "metadata": {
        "id": "c5VaJJV7IpIj"
      }
    },
    {
      "cell_type": "code",
      "source": [
        "!gdown 1243y4NFGU9rZkiD_VGivE2HInP-u5dUc"
      ],
      "metadata": {
        "colab": {
          "base_uri": "https://localhost:8080/"
        },
        "id": "ltjhS6lwCEw4",
        "outputId": "c2d751cb-af79-4f8b-faa0-180b83118f85"
      },
      "execution_count": null,
      "outputs": [
        {
          "output_type": "stream",
          "name": "stdout",
          "text": [
            "Downloading...\n",
            "From: https://drive.google.com/uc?id=1243y4NFGU9rZkiD_VGivE2HInP-u5dUc\n",
            "To: /content/mask_xml.zip\n",
            "\r  0% 0.00/997 [00:00<?, ?B/s]\r100% 997/997 [00:00<00:00, 1.13MB/s]\n"
          ]
        }
      ]
    },
    {
      "cell_type": "code",
      "source": [
        "!unzip mask_xml.zip"
      ],
      "metadata": {
        "colab": {
          "base_uri": "https://localhost:8080/"
        },
        "id": "ADgieHa5CJ22",
        "outputId": "e3bfd8b5-8c22-4bc2-883e-5aaaa2b3299d"
      },
      "execution_count": null,
      "outputs": [
        {
          "output_type": "stream",
          "name": "stdout",
          "text": [
            "Archive:  mask_xml.zip\n",
            "  inflating: mask_01.xml             \n",
            "  inflating: mask_02.xml             \n"
          ]
        }
      ]
    },
    {
      "cell_type": "markdown",
      "source": [
        "### XML 정보 TXT 파일로 생성하기\n",
        "XML은 계층적인 형식의 데이터이며, 이를 나타내는 가장 자연스러운 방법은 트리를 사용하는 것입니다.  \n",
        "ET에는 이 목적을 위한 두 가지 클래스가 있습니다.\n",
        "- ElementTree는 전체 XML 문서를 트리로 나타내고, \n",
        "- Element는 이 트리에 있는 단일 노드를 나타냅니다.  \n",
        "출처 : https://docs.python.org/ko/3/library/xml.etree.elementtree.html"
      ],
      "metadata": {
        "id": "O1LG06uuJkdU"
      }
    },
    {
      "cell_type": "code",
      "source": [
        "import os\n",
        "import glob\n",
        "import pandas as pd\n",
        "\n",
        "import xml.etree.ElementTree as ET"
      ],
      "metadata": {
        "id": "-D-a5E9RInQw"
      },
      "execution_count": null,
      "outputs": []
    },
    {
      "cell_type": "code",
      "source": [
        "# 파일을 읽어서 이 데이터를 가져오기\n",
        "tree = ET.parse('mask_01.xml')\n",
        "root = tree.getroot()"
      ],
      "metadata": {
        "id": "T0ikqySAKdwF"
      },
      "execution_count": null,
      "outputs": []
    },
    {
      "cell_type": "markdown",
      "source": [
        "    '''<annotation>\n",
        "        <folder>windows_v1.8.1</folder>\n",
        "        <filename>add_01.jpg</filename>\n",
        "        <path>C:\\Users\\82103\\Downloads\\windows_v1.8.1\\windows_v1.8.1\\add_01.jpg</path>\n",
        "        <source>\n",
        "            <database>Unknown</database>\n",
        "        </source>\n",
        "        <size>\n",
        "            <width>849</width>\n",
        "            <height>566</height>\n",
        "            <depth>3</depth>\n",
        "        </size>\n",
        "     <segmented>0</segmented>\n",
        "        <object>\n",
        "            <name>mask</name>\n",
        "            <pose>Unspecified</pose>\n",
        "            <truncated>0</truncated>\n",
        "            <difficult>0</difficult>\n",
        "            <bndbox>\n",
        "                <xmin>185</xmin>\n",
        "                <ymin>123</ymin>\n",
        "                <xmax>277</xmax>\n",
        "                <ymax>244</ymax>\n",
        "            </bndbox>\n",
        "        </object>\n",
        "        <object>\n",
        "            <name>mask</name>\n",
        "            <pose>Unspecified</pose>\n",
        "            <truncated>0</truncated>\n",
        "            <difficult>0</difficult>\n",
        "            <bndbox>\n",
        "                <xmin>379</xmin>\n",
        "                <ymin>160</ymin>\n",
        "                <xmax>475</xmax>\n",
        "                <ymax>277</ymax>\n",
        "            </bndbox>\n",
        "        </object>\n",
        "        <object>\n",
        "            <name>mask</name>\n",
        "            <pose>Unspecified</pose>\n",
        "            <truncated>0</truncated>\n",
        "            <difficult>0</difficult>\n",
        "            <bndbox>\n",
        "                <xmin>566</xmin>\n",
        "                <ymin>137</ymin>\n",
        "                <xmax>654</xmax>\n",
        "                <ymax>252</ymax>\n",
        "            </bndbox>\n",
        "        </object>\n",
        "    </annotation>'''"
      ],
      "metadata": {
        "id": "lwrfJWv_K-ZM"
      }
    },
    {
      "cell_type": "code",
      "source": [
        "# 원하는 정보 가져오기\n",
        "root.findall('object')[0].find('name').text"
      ],
      "metadata": {
        "colab": {
          "base_uri": "https://localhost:8080/",
          "height": 35
        },
        "id": "2GR3gYP6LlAp",
        "outputId": "2f77f750-73fc-4d08-bbe4-36b7bf469418"
      },
      "execution_count": null,
      "outputs": [
        {
          "output_type": "execute_result",
          "data": {
            "text/plain": [
              "'mask'"
            ],
            "application/vnd.google.colaboratory.intrinsic+json": {
              "type": "string"
            }
          },
          "metadata": {},
          "execution_count": 11
        }
      ]
    },
    {
      "cell_type": "code",
      "execution_count": null,
      "metadata": {
        "id": "Ac6h6s7DIVk8"
      },
      "outputs": [],
      "source": [
        "def xml_to_txt(path):\n",
        "    xml_list = []\n",
        "\n",
        "    label2idx = {'mask' : 0, 'no-mask' : 1}\n",
        "\n",
        "    for xml_file in glob.glob(path + '/*.xml'):\n",
        "        filename = xml_file.split('/')[-1][:-4] + '.txt'\n",
        "        # print(filename)\n",
        "        f = open(filename, 'w')\n",
        "\n",
        "        tree = ET.parse(xml_file)\n",
        "        root = tree.getroot()\n",
        "        for member in root.findall('object'):\n",
        "            bbx = member.find('bndbox')\n",
        "            label = member.find('name').text\n",
        "\n",
        "            img_width = int(root.find('size')[0].text)\n",
        "            img_height = int(root.find('size')[1].text)\n",
        "\n",
        "            xmin = int(bbx.find('xmin').text)\n",
        "            ymin = int(bbx.find('ymin').text)\n",
        "            xmax = int(bbx.find('xmax').text)\n",
        "            ymax = int(bbx.find('ymax').text)\n",
        "            \n",
        "            label_idx = label2idx[label] \n",
        "            x, y = (xmin+xmax)/img_width, (ymin+ymax)/img_height\n",
        "            w = (xmax - xmin) / img_width\n",
        "            h = (ymax - ymin) / img_height\n",
        "\n",
        "            info = f'{label_idx} {x} {y} {w} {h}'\n",
        "\n",
        "            # print(info)\n",
        "            f.write(info+'\\n')"
      ]
    },
    {
      "cell_type": "code",
      "source": [
        "xml_to_txt('/content')"
      ],
      "metadata": {
        "colab": {
          "base_uri": "https://localhost:8080/"
        },
        "id": "6lbp3Ct5InfI",
        "outputId": "736b84b5-367a-4fd5-a08c-88028335ef82"
      },
      "execution_count": null,
      "outputs": [
        {
          "output_type": "stream",
          "name": "stdout",
          "text": [
            "mask_01.txt\n",
            "0 0.21790341578327443 0.21731448763250882 0.10836277974087162 0.2137809187279152\n",
            "0 0.4464075382803298 0.2826855123674912 0.11307420494699646 0.2067137809187279\n",
            "0 0.6666666666666666 0.2420494699646643 0.10365135453474676 0.20318021201413428\n",
            "mask_02.txt\n",
            "0 0.02591283863368669 0.20141342756183744 0.11896348645465253 0.19434628975265017\n",
            "0 0.2756183745583039 0.1855123674911661 0.07891637220259129 0.14487632508833923\n",
            "1 0.5017667844522968 0.23851590106007067 0.06949352179034157 0.13780918727915195\n",
            "0 0.6454652532391049 0.27208480565371024 0.06595995288574794 0.10777385159010601\n",
            "0 0.4911660777385159 0.4840989399293286 0.05653710247349823 0.13250883392226148\n",
            "0 0.17432273262661954 0.4734982332155477 0.10129564193168433 0.19257950530035337\n",
            "0 0.02944640753828033 0.676678445229682 0.15665488810365136 0.2826855123674912\n",
            "0 0.6949352179034158 0.5 0.0706713780918728 0.1519434628975265\n",
            "0 0.9069493521790342 0.41519434628975266 0.04240282685512368 0.08303886925795052\n",
            "0 0.9517078916372202 0.4010600706713781 0.03769140164899882 0.08303886925795052\n"
          ]
        }
      ]
    },
    {
      "cell_type": "code",
      "source": [],
      "metadata": {
        "id": "YRF3HL3CLez1"
      },
      "execution_count": null,
      "outputs": []
    }
  ]
}